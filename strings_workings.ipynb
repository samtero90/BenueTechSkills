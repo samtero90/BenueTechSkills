{
 "cells": [
  {
   "cell_type": "code",
   "execution_count": 2,
   "id": "3687eddb-67ad-43e0-a750-66a1fa7e4f5a",
   "metadata": {},
   "outputs": [
    {
     "name": "stdout",
     "output_type": "stream",
     "text": [
      "Hello Samuel, your lucky number is 3.\n"
     ]
    }
   ],
   "source": [
    "name = 'Samuel'\n",
    "number = 3\n",
    "print('Hello {}, your lucky number is {}.'. format(name, number))"
   ]
  },
  {
   "cell_type": "code",
   "execution_count": 4,
   "id": "ee3a0309-93da-482a-bd7c-bb31f993e581",
   "metadata": {},
   "outputs": [
    {
     "name": "stdout",
     "output_type": "stream",
     "text": [
      "Hello Orgem, Your lucky number is 3.\n"
     ]
    }
   ],
   "source": [
    "# formatt and print name and number\n",
    "name = 'Orgem'\n",
    "number = 3\n",
    "print('Hello {name}, Your lucky number is {num}.'. format(num=number, name=name))"
   ]
  },
  {
   "cell_type": "code",
   "execution_count": null,
   "id": "4e7dccd8-89b3-4c4f-b7e2-76070e78aa73",
   "metadata": {},
   "outputs": [],
   "source": []
  }
 ],
 "metadata": {
  "kernelspec": {
   "display_name": "Python 3 (ipykernel)",
   "language": "python",
   "name": "python3"
  },
  "language_info": {
   "codemirror_mode": {
    "name": "ipython",
    "version": 3
   },
   "file_extension": ".py",
   "mimetype": "text/x-python",
   "name": "python",
   "nbconvert_exporter": "python",
   "pygments_lexer": "ipython3",
   "version": "3.12.4"
  }
 },
 "nbformat": 4,
 "nbformat_minor": 5
}
