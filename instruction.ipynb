{
 "cells": [
  {
   "cell_type": "code",
   "execution_count": null,
   "id": "1dc11b68-88c5-4f94-b467-0be7ed661e6d",
   "metadata": {},
   "outputs": [],
   "source": []
  },
  {
   "cell_type": "code",
   "execution_count": 7,
   "id": "1931d97d-d51f-473d-a4b7-09694e5052a9",
   "metadata": {},
   "outputs": [
    {
     "name": "stdin",
     "output_type": "stream",
     "text": [
      "Please, enter your name:  Samuel\n"
     ]
    },
    {
     "name": "stdout",
     "output_type": "stream",
     "text": [
      "Hi Samuel, Good afternoon, it's time to take your launch.\n"
     ]
    }
   ],
   "source": [
    "from datetime import datetime\n",
    "\n",
    "now = int(datetime.now().strftime('%H'))\n",
    "\n",
    "def greeting(time):\n",
    "    if time >= 00 and time < 12:\n",
    "        return 'Good morning, it\"s time to go to work.'\n",
    "\n",
    "    elif time >= 12 and time < 16:\n",
    "        return 'Good afternoon, it\\'s time to take your launch.'\n",
    "\n",
    "    else:\n",
    "        return 'Good night, go to sleep.'\n",
    "\n",
    "hello = greeting(now)\n",
    "user = input('Please, enter your name: ')\n",
    "print('Hi ' + user + ', ' + hello)\n",
    "print('Thank you')"
   ]
  },
  {
   "cell_type": "code",
   "execution_count": null,
   "id": "1d70ec0e-fa03-446b-ad65-ee5ee98d6680",
   "metadata": {},
   "outputs": [],
   "source": []
  },
  {
   "cell_type": "code",
   "execution_count": 2,
   "id": "c5dd43a5-d872-4fe4-bbae-cfcbfab8e8c2",
   "metadata": {},
   "outputs": [
    {
     "name": "stdout",
     "output_type": "stream",
     "text": [
      "valid username.\n"
     ]
    }
   ],
   "source": [
    "# a function that generate username hint using if statement\n",
    "\n",
    "def hint_username(username):\n",
    "    if len(username) < 6:\n",
    "        print('Invalid username. Must be at least 8 characters long.')\n",
    "    else:\n",
    "        print('valid username.')\n",
    "hint_username('Samuel')"
   ]
  }
 ],
 "metadata": {
  "kernelspec": {
   "display_name": "Python 3 (ipykernel)",
   "language": "python",
   "name": "python3"
  },
  "language_info": {
   "codemirror_mode": {
    "name": "ipython",
    "version": 3
   },
   "file_extension": ".py",
   "mimetype": "text/x-python",
   "name": "python",
   "nbconvert_exporter": "python",
   "pygments_lexer": "ipython3",
   "version": "3.12.4"
  }
 },
 "nbformat": 4,
 "nbformat_minor": 5
}
