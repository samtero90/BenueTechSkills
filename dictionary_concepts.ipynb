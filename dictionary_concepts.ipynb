{
 "cells": [
  {
   "cell_type": "code",
   "execution_count": 8,
   "id": "e79b823c-7ebc-40b4-9de3-d9a80c45814f",
   "metadata": {},
   "outputs": [
    {
     "data": {
      "text/plain": [
       "{'Honda': 'End of Discussion', 'Mercedes': 'V-boot'}"
      ]
     },
     "execution_count": 8,
     "metadata": {},
     "output_type": "execute_result"
    }
   ],
   "source": [
    "# dictionary_name= {key: value}\n",
    "Car = {'Toyota' : 'Tundra', 'Honda': 'End of Discussion', 'Mercedes': 'V-boot'}\n",
    "Car['Toyota']\n",
    "Car['Mercedes']\n",
    "del Car['Toyota']\n",
    "Car"
   ]
  },
  {
   "cell_type": "code",
   "execution_count": 9,
   "id": "847d12d5-9ee2-4523-a1d5-d9570eb378ef",
   "metadata": {},
   "outputs": [
    {
     "data": {
      "text/plain": [
       "{'Honda': 'End of Discussion', 'Mercedes': 'GLK'}"
      ]
     },
     "execution_count": 9,
     "metadata": {},
     "output_type": "execute_result"
    }
   ],
   "source": [
    "Car['Mercedes'] = 'GLK'\n",
    "Car"
   ]
  },
  {
   "cell_type": "code",
   "execution_count": 10,
   "id": "277b6908-ab90-4399-a21d-8d5c078a34b9",
   "metadata": {},
   "outputs": [
    {
     "data": {
      "text/plain": [
       "{'Honda': 'End of Discussion', 'Mercedes': 'G-Wagon'}"
      ]
     },
     "execution_count": 10,
     "metadata": {},
     "output_type": "execute_result"
    }
   ],
   "source": [
    "Car['Mercedes'] = 'G-Wagon'\n",
    "Car"
   ]
  },
  {
   "cell_type": "code",
   "execution_count": 11,
   "id": "4547c8eb-0b63-48ef-a1d4-10d9cf5d42a0",
   "metadata": {},
   "outputs": [
    {
     "data": {
      "text/plain": [
       "dict_keys(['Honda', 'Mercedes'])"
      ]
     },
     "execution_count": 11,
     "metadata": {},
     "output_type": "execute_result"
    }
   ],
   "source": [
    "Car.keys()"
   ]
  },
  {
   "cell_type": "code",
   "execution_count": 12,
   "id": "562595ab-5da6-481e-afb9-bd81a13fa052",
   "metadata": {},
   "outputs": [
    {
     "data": {
      "text/plain": [
       "dict_values(['End of Discussion', 'G-Wagon'])"
      ]
     },
     "execution_count": 12,
     "metadata": {},
     "output_type": "execute_result"
    }
   ],
   "source": [
    "Car.values()"
   ]
  },
  {
   "cell_type": "code",
   "execution_count": 16,
   "id": "1c1733f3-6bac-474f-ba40-04ff1b45d0cf",
   "metadata": {},
   "outputs": [
    {
     "data": {
      "text/plain": [
       "{'Toyota': 'Tundra', 'Honda': 'End of Discussion', 'Mercedes': 'V-boot'}"
      ]
     },
     "execution_count": 16,
     "metadata": {},
     "output_type": "execute_result"
    }
   ],
   "source": [
    "\n",
    "Car = {'Toyota' : 'Tundra', 'Honda': 'End of Discussion', 'Mercedes': 'V-boot'}\n",
    "Car"
   ]
  },
  {
   "cell_type": "code",
   "execution_count": 17,
   "id": "90b7a7f2-dea2-484d-b40d-f5fff9c1bb43",
   "metadata": {},
   "outputs": [
    {
     "data": {
      "text/plain": [
       "dict_items([('Toyota', 'Tundra'), ('Honda', 'End of Discussion'), ('Mercedes', 'V-boot')])"
      ]
     },
     "execution_count": 17,
     "metadata": {},
     "output_type": "execute_result"
    }
   ],
   "source": [
    "Car.items()\n"
   ]
  },
  {
   "cell_type": "code",
   "execution_count": 18,
   "id": "e299623d-3803-4825-82e4-8b676fc184d8",
   "metadata": {},
   "outputs": [
    {
     "data": {
      "text/plain": [
       "[23, 89]"
      ]
     },
     "execution_count": 18,
     "metadata": {},
     "output_type": "execute_result"
    }
   ],
   "source": [
    "# list of a list\n",
    "Data = [[23,89],[12,90],48,[93,18]]\n",
    "Data[0]"
   ]
  },
  {
   "cell_type": "code",
   "execution_count": 19,
   "id": "91c6de5b-9bcc-4ab2-8f82-46cc73bc6496",
   "metadata": {},
   "outputs": [
    {
     "data": {
      "text/plain": [
       "89"
      ]
     },
     "execution_count": 19,
     "metadata": {},
     "output_type": "execute_result"
    }
   ],
   "source": [
    "Data[0][1]"
   ]
  },
  {
   "cell_type": "code",
   "execution_count": 20,
   "id": "49a83395-70d1-4127-8188-5ee52bbd2df8",
   "metadata": {},
   "outputs": [
    {
     "data": {
      "text/plain": [
       "set()"
      ]
     },
     "execution_count": 20,
     "metadata": {},
     "output_type": "execute_result"
    }
   ],
   "source": [
    "# Sets\n",
    "Data=set()\n",
    "Data"
   ]
  },
  {
   "cell_type": "code",
   "execution_count": 29,
   "id": "958b8d17-7cef-4087-993a-940a04de4550",
   "metadata": {},
   "outputs": [
    {
     "data": {
      "text/plain": [
       "{'Bag', 'Earpiece', 'Laptop', 'Wifi', 'pen'}"
      ]
     },
     "execution_count": 29,
     "metadata": {},
     "output_type": "execute_result"
    }
   ],
   "source": [
    "date1 = {'Laptop', 'Wifi', 'Earpiece', 'Bag', 'pen'}\n",
    "date1"
   ]
  }
 ],
 "metadata": {
  "kernelspec": {
   "display_name": "Python 3 (ipykernel)",
   "language": "python",
   "name": "python3"
  },
  "language_info": {
   "codemirror_mode": {
    "name": "ipython",
    "version": 3
   },
   "file_extension": ".py",
   "mimetype": "text/x-python",
   "name": "python",
   "nbconvert_exporter": "python",
   "pygments_lexer": "ipython3",
   "version": "3.12.4"
  }
 },
 "nbformat": 4,
 "nbformat_minor": 5
}
