{
 "cells": [
  {
   "cell_type": "code",
   "execution_count": 2,
   "id": "8776753a-9c25-434d-afa0-ddf70506ce60",
   "metadata": {},
   "outputs": [
    {
     "data": {
      "text/plain": [
       "60320"
      ]
     },
     "execution_count": 2,
     "metadata": {},
     "output_type": "execute_result"
    }
   ],
   "source": [
    "def get_seconds(hours, minutes, seconds):\n",
    "    total_seconds = 3600 * hours + 60 * minutes + seconds\n",
    "    return total_seconds\n",
    "get_seconds(16, 45, 20)"
   ]
  }
 ],
 "metadata": {
  "kernelspec": {
   "display_name": "Python 3 (ipykernel)",
   "language": "python",
   "name": "python3"
  },
  "language_info": {
   "codemirror_mode": {
    "name": "ipython",
    "version": 3
   },
   "file_extension": ".py",
   "mimetype": "text/x-python",
   "name": "python",
   "nbconvert_exporter": "python",
   "pygments_lexer": "ipython3",
   "version": "3.12.4"
  }
 },
 "nbformat": 4,
 "nbformat_minor": 5
}
