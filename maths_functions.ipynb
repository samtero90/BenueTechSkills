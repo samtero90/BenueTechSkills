{
 "cells": [
  {
   "cell_type": "code",
   "execution_count": 2,
   "id": "31854177-3c6f-4339-8049-c914ae29caaa",
   "metadata": {},
   "outputs": [
    {
     "data": {
      "text/plain": [
       "20.5"
      ]
     },
     "execution_count": 2,
     "metadata": {},
     "output_type": "execute_result"
    }
   ],
   "source": [
    "def area_triangle(base, height):\n",
    "    return base * height / 2\n",
    "area_a = area_triangle(5, 4)\n",
    "area_b = area_triangle(7, 3)\n",
    "total_area = area_a + area_b\n",
    "total_area"
   ]
  },
  {
   "cell_type": "code",
   "execution_count": 1,
   "id": "42af6ffc-01d3-4017-9045-280792fd1c53",
   "metadata": {},
   "outputs": [
    {
     "name": "stdout",
     "output_type": "stream",
     "text": [
      "How far Samuel. Your lucky number is 54\n"
     ]
    }
   ],
   "source": [
    "def lucky_number(name):\n",
    "    number = len(name) * 9\n",
    "    print('How far ' + name + '. Your lucky number is ' + str(number))\n",
    "\n",
    "lucky_number('Samuel')\n",
    "    "
   ]
  },
  {
   "cell_type": "code",
   "execution_count": 1,
   "id": "f92282b8-928c-43e8-9310-0a2d836e11af",
   "metadata": {},
   "outputs": [
    {
     "data": {
      "text/plain": [
       "3.92"
      ]
     },
     "execution_count": 1,
     "metadata": {},
     "output_type": "execute_result"
    }
   ],
   "source": [
    "def seed_calculator(fountain_side, grass_width):\n",
    "    '''\n",
    "    calculate number of kilogram of grass seed needed for a border around a square fountain.\n",
    "        parameters:\n",
    "            fountain_size (num): length of 1 side of fountain in meters\n",
    "            grass_width (num): width of grass border in meters\n",
    "        returns:\n",
    "            seed (float): amount of seed (kg) needed for grass border\n",
    "    '''\n",
    "    fountain_area = fountain_side ** 2\n",
    "    total_area = (fountain_side + 2 * grass_width) ** 2\n",
    "    grass_area = total_area - fountain_area\n",
    "    seed = grass_area * 35\n",
    "    seed = seed / 1000\n",
    "    return seed\n",
    "\n",
    "seed_calculator(12, 2)\n",
    "            "
   ]
  }
 ],
 "metadata": {
  "kernelspec": {
   "display_name": "Python 3 (ipykernel)",
   "language": "python",
   "name": "python3"
  },
  "language_info": {
   "codemirror_mode": {
    "name": "ipython",
    "version": 3
   },
   "file_extension": ".py",
   "mimetype": "text/x-python",
   "name": "python",
   "nbconvert_exporter": "python",
   "pygments_lexer": "ipython3",
   "version": "3.12.4"
  }
 },
 "nbformat": 4,
 "nbformat_minor": 5
}
